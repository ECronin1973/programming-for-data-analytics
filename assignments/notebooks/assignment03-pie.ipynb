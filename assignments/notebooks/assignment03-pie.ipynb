{
 "cells": [
  {
   "cell_type": "markdown",
   "id": "7fdb7ae9",
   "metadata": {},
   "source": [
    "# Assignment 03 – Pie Chart of Email Domains\n",
    "\n",
    "This notebook analyses a dataset of 1000 people and visualises the distribution of their email domains using a pie chart. The data is sourced from a CSV file and the chart is styled for clarity and visual appeal.\n"
   ]
  },
  {
   "cell_type": "markdown",
   "id": "11660f2e",
   "metadata": {},
   "source": [
    "# Import Libraries"
   ]
  },
  {
   "cell_type": "code",
   "execution_count": null,
   "id": "2eae2018",
   "metadata": {},
   "outputs": [],
   "source": [
    "# Import necessary libraries\n",
    "import pandas as pd # For data manipulation – see: https://pandas.pydata.org/\n",
    "import matplotlib.pyplot as plt # For plotting charts – see: https://matplotlib.org/stable/contents.html\n",
    "import seaborn as sns # For enhanced plotting aesthetics – see: https://seaborn.pydata.org/\n",
    "import os # For operating system interactions like file paths – see: https://docs.python.org/3/library/os.html\n",
    "import requests # For downloading files from the web – see: https://docs.python-requests.org/en/latest/\n",
    "from pathlib import Path # For filesystem paths – see: https://docs.python.org/3/library/pathlib.html\n",
    "\n",
    "# Set a consistent style for plots\n",
    "sns.set_theme(style=\"whitegrid\") # Set the theme for seaborn plots – see: https://seaborn.pydata.org/generated/seaborn.set_theme.html\n"
   ]
  },
  {
   "cell_type": "markdown",
   "id": "d1a0348b",
   "metadata": {},
   "source": [
    "# Download the dataset"
   ]
  },
  {
   "cell_type": "code",
   "execution_count": 2,
   "id": "54321e68",
   "metadata": {},
   "outputs": [
    {
     "name": "stdout",
     "output_type": "stream",
     "text": [
      "Dataset downloaded and saved to: ../data\\people.csv\n"
     ]
    }
   ],
   "source": [
    "# Define the direct download URL for the CSV file (hosted on Google Drive)\n",
    "url = \"https://drive.google.com/uc?id=1AWPf-pJodJKeHsARQK_RHiNsE8fjPCVK&export=download\"\n",
    "\n",
    "# Define the folder where the file will be saved\n",
    "folder_path = \"../data\"  # Relative path to the data folder\n",
    "\n",
    "# Define the full path to the output file\n",
    "file_path = os.path.join(folder_path, \"people.csv\")  \n",
    "# Reference: https://docs.python.org/3/library/os.path.html#os.path.join\n",
    "\n",
    "# Create the data folder if it doesn't already exist\n",
    "os.makedirs(folder_path, exist_ok=True)  \n",
    "# Reference: https://docs.python.org/3/library/os.html#os.makedirs\n",
    "\n",
    "# Send a GET request to download the file from the URL\n",
    "response = requests.get(url)  \n",
    "# Reference: https://requests.readthedocs.io/en/latest/user/quickstart/#make-a-request\n",
    "\n",
    "# Write the downloaded content to a local file in binary mode\n",
    "with open(file_path, \"wb\") as f:  \n",
    "    f.write(response.content)  # Save the file contents to disk\n",
    "\n",
    "# Confirm the file was saved successfully\n",
    "print(f\"Dataset downloaded and saved to: {file_path}\")\n",
    "\n"
   ]
  },
  {
   "cell_type": "markdown",
   "id": "03592555",
   "metadata": {},
   "source": [
    "# Load the Data"
   ]
  },
  {
   "cell_type": "code",
   "execution_count": 3,
   "id": "4cc694ef",
   "metadata": {},
   "outputs": [
    {
     "data": {
      "text/html": [
       "<div>\n",
       "<style scoped>\n",
       "    .dataframe tbody tr th:only-of-type {\n",
       "        vertical-align: middle;\n",
       "    }\n",
       "\n",
       "    .dataframe tbody tr th {\n",
       "        vertical-align: top;\n",
       "    }\n",
       "\n",
       "    .dataframe thead th {\n",
       "        text-align: right;\n",
       "    }\n",
       "</style>\n",
       "<table border=\"1\" class=\"dataframe\">\n",
       "  <thead>\n",
       "    <tr style=\"text-align: right;\">\n",
       "      <th></th>\n",
       "      <th>Index</th>\n",
       "      <th>User Id</th>\n",
       "      <th>First Name</th>\n",
       "      <th>Last Name</th>\n",
       "      <th>Sex</th>\n",
       "      <th>Email</th>\n",
       "      <th>Phone</th>\n",
       "      <th>Date of birth</th>\n",
       "      <th>Job Title</th>\n",
       "    </tr>\n",
       "  </thead>\n",
       "  <tbody>\n",
       "    <tr>\n",
       "      <th>0</th>\n",
       "      <td>1</td>\n",
       "      <td>8717bbf45cCDbEe</td>\n",
       "      <td>Shelia</td>\n",
       "      <td>Mahoney</td>\n",
       "      <td>Male</td>\n",
       "      <td>pwarner@example.org</td>\n",
       "      <td>857.139.8239</td>\n",
       "      <td>2014-01-27</td>\n",
       "      <td>Probation officer</td>\n",
       "    </tr>\n",
       "    <tr>\n",
       "      <th>1</th>\n",
       "      <td>2</td>\n",
       "      <td>3d5AD30A4cD38ed</td>\n",
       "      <td>Jo</td>\n",
       "      <td>Rivers</td>\n",
       "      <td>Female</td>\n",
       "      <td>fergusonkatherine@example.net</td>\n",
       "      <td>+1-950-759-8687</td>\n",
       "      <td>1931-07-26</td>\n",
       "      <td>Dancer</td>\n",
       "    </tr>\n",
       "    <tr>\n",
       "      <th>2</th>\n",
       "      <td>3</td>\n",
       "      <td>810Ce0F276Badec</td>\n",
       "      <td>Sheryl</td>\n",
       "      <td>Lowery</td>\n",
       "      <td>Female</td>\n",
       "      <td>fhoward@example.org</td>\n",
       "      <td>(599)782-0605</td>\n",
       "      <td>2013-11-25</td>\n",
       "      <td>Copy</td>\n",
       "    </tr>\n",
       "    <tr>\n",
       "      <th>3</th>\n",
       "      <td>4</td>\n",
       "      <td>BF2a889C00f0cE1</td>\n",
       "      <td>Whitney</td>\n",
       "      <td>Hooper</td>\n",
       "      <td>Male</td>\n",
       "      <td>zjohnston@example.com</td>\n",
       "      <td>+1-939-130-6258</td>\n",
       "      <td>2012-11-17</td>\n",
       "      <td>Counselling psychologist</td>\n",
       "    </tr>\n",
       "    <tr>\n",
       "      <th>4</th>\n",
       "      <td>5</td>\n",
       "      <td>9afFEafAe1CBBB9</td>\n",
       "      <td>Lindsey</td>\n",
       "      <td>Rice</td>\n",
       "      <td>Female</td>\n",
       "      <td>elin@example.net</td>\n",
       "      <td>(390)417-1635x3010</td>\n",
       "      <td>1923-04-15</td>\n",
       "      <td>Biomedical engineer</td>\n",
       "    </tr>\n",
       "  </tbody>\n",
       "</table>\n",
       "</div>"
      ],
      "text/plain": [
       "   Index          User Id First Name Last Name     Sex  \\\n",
       "0      1  8717bbf45cCDbEe     Shelia   Mahoney    Male   \n",
       "1      2  3d5AD30A4cD38ed         Jo    Rivers  Female   \n",
       "2      3  810Ce0F276Badec     Sheryl    Lowery  Female   \n",
       "3      4  BF2a889C00f0cE1    Whitney    Hooper    Male   \n",
       "4      5  9afFEafAe1CBBB9    Lindsey      Rice  Female   \n",
       "\n",
       "                           Email               Phone Date of birth  \\\n",
       "0            pwarner@example.org        857.139.8239    2014-01-27   \n",
       "1  fergusonkatherine@example.net     +1-950-759-8687    1931-07-26   \n",
       "2            fhoward@example.org       (599)782-0605    2013-11-25   \n",
       "3          zjohnston@example.com     +1-939-130-6258    2012-11-17   \n",
       "4               elin@example.net  (390)417-1635x3010    1923-04-15   \n",
       "\n",
       "                  Job Title  \n",
       "0         Probation officer  \n",
       "1                    Dancer  \n",
       "2                      Copy  \n",
       "3  Counselling psychologist  \n",
       "4       Biomedical engineer  "
      ]
     },
     "execution_count": 3,
     "metadata": {},
     "output_type": "execute_result"
    }
   ],
   "source": [
    "# Load the CSV file into a pandas DataFrame\n",
    "# This reads structured tabular data from the specified file path\n",
    "df = pd.read_csv(file_path)  \n",
    "# Reference: https://pandas.pydata.org/docs/reference/api/pandas.read_csv.html\n",
    "\n",
    "# Preview the first five rows of the dataset\n",
    "# Useful for checking column names, data types, and general structure\n",
    "df.head()  \n",
    "# Reference: https://pandas.pydata.org/docs/reference/api/pandas.DataFrame.head.html\n"
   ]
  },
  {
   "cell_type": "markdown",
   "id": "1eacee18",
   "metadata": {},
   "source": [
    "# Extract Email Domains\n"
   ]
  },
  {
   "cell_type": "code",
   "execution_count": 4,
   "id": "ee4528fe",
   "metadata": {},
   "outputs": [
    {
     "data": {
      "text/plain": [
       "domain\n",
       "example.org    341\n",
       "example.com    339\n",
       "example.net    320\n",
       "Name: count, dtype: int64"
      ]
     },
     "execution_count": 4,
     "metadata": {},
     "output_type": "execute_result"
    }
   ],
   "source": [
    "# Extract the domain part from each email address\n",
    "# This splits the string at '@' and selects the last part (e.g., 'gmail.com' from 'user@gmail.com')\n",
    "df['domain'] = df['Email'].str.split('@').str[-1]  \n",
    "# Reference: https://pandas.pydata.org/docs/reference/api/pandas.Series.str.split.html\n",
    "\n",
    "# Count how many times each domain appears in the dataset\n",
    "domain_counts = df['domain'].value_counts()  \n",
    "# Reference: https://pandas.pydata.org/docs/reference/api/pandas.Series.value_counts.html\n",
    "\n",
    "# Display the top domain counts (default is top 5)\n",
    "domain_counts.head()  \n",
    "# Reference: https://pandas.pydata.org/docs/reference/api/pandas.Series.head.html\n",
    "\n"
   ]
  },
  {
   "cell_type": "markdown",
   "id": "5b396de6",
   "metadata": {},
   "source": [
    "# Create the Pie Chart"
   ]
  },
  {
   "cell_type": "code",
   "execution_count": 5,
   "id": "70b2761e",
   "metadata": {},
   "outputs": [
    {
     "data": {
      "image/png": "[encoded data removed]",
      "text/plain": [
       "<Figure size 800x800 with 1 Axes>"
      ]
     },
     "metadata": {},
     "output_type": "display_data"
    },
    {
     "name": "stdout",
     "output_type": "stream",
     "text": [
      "Chart saved to: ..\\data\\assignment-03-pie-chart.jpg\n"
     ]
    }
   ],
   "source": [
    "# Create a new figure with a fixed size (8x8 inches)\n",
    "plt.figure(figsize=(8, 8))\n",
    "# Reference: https://matplotlib.org/stable/api/_as_gen/matplotlib.pyplot.figure.html\n",
    "\n",
    "# Generate a pastel color palette based on the number of domain categories\n",
    "colors = sns.color_palette('pastel')[0:len(domain_counts)]  \n",
    "# Reference: https://seaborn.pydata.org/generated/seaborn.color_palette.html\n",
    "\n",
    "# Limit the chart to the top N domains for better readability\n",
    "top_n = 10\n",
    "domain_counts_top = domain_counts.head(top_n)  # Select top N domains using pandas .head() \n",
    "# Reference: https://pandas.pydata.org/docs/reference/api/pandas.Series.head.html\n",
    "\n",
    "# Group all remaining domains into a single \"Others\" category\n",
    "others = domain_counts[top_n:].sum()  # Sum the remaining domain counts\n",
    "domain_counts_top['Others'] = others  # Add \"Others\" to the top domain list\n",
    "\n",
    "# Plot the pie chart using pandas built-in plotting (which uses matplotlib under the hood)\n",
    "domain_counts_top.plot.pie(  \n",
    "    autopct='%1.1f%%',        # Show percentages with one decimal place\n",
    "    colors=colors,            # Use the pastel color palette\n",
    "    startangle=140,           # Rotate the chart for better visual balance\n",
    "    wedgeprops={'edgecolor': 'white'},  # Add white borders between slices\n",
    "    fontsize=12               # Set font size for labels\n",
    ")\n",
    "# Reference: https://pandas.pydata.org/docs/reference/api/pandas.DataFrame.plot.pie.html\n",
    "\n",
    "# Add a title and remove the y-axis label (not needed for pie charts)\n",
    "plt.title('Distribution of Email Domains', fontsize=16)\n",
    "plt.ylabel('')  # Hide y-axis label\n",
    "plt.tight_layout()  # Adjust layout to prevent clipping \n",
    "# Reference: https://matplotlib.org/stable/api/_as_gen/matplotlib.pyplot.title.html\n",
    "\n",
    "# Define the output directory and ensure it exists\n",
    "out_dir = Path(\"../data\")  # Use pathlib for cross-platform path handling\n",
    "out_dir.mkdir(exist_ok=True)  # Create the folder if it doesn't exist\n",
    "# Reference: https://docs.python.org/3/library/pathlib.html#pathlib.Path.mkdir\n",
    "\n",
    "# Define the output file path and save the chart as a JPG image\n",
    "out_path = out_dir / \"assignment-03-pie-chart.jpg\"\n",
    "plt.savefig(out_path, dpi=150)  # Save the figure with high resolution\n",
    "# Reference: https://matplotlib.org/stable/api/_as_gen/matplotlib.pyplot.savefig.html\n",
    "\n",
    "# Display the chart in the notebook or script\n",
    "plt.show()  \n",
    "# Reference: https://matplotlib.org/stable/api/_as_gen/matplotlib.pyplot.show.html\n",
    "\n",
    "# Close the figure to free up memory\n",
    "plt.close()\n",
    "# Reference: https://matplotlib.org/stable/api/_as_gen/matplotlib.pyplot.close.html\n",
    "\n",
    "# Print the file path to confirm where the chart was saved\n",
    "print(f\"Chart saved to: {out_path}\")\n",
    "\n"
   ]
  }
 ],
 "metadata": {
  "kernelspec": {
   "display_name": "base",
   "language": "python",
   "name": "python3"
  },
  "language_info": {
   "codemirror_mode": {
    "name": "ipython",
    "version": 3
   },
   "file_extension": ".py",
   "mimetype": "text/x-python",
   "name": "python",
   "nbconvert_exporter": "python",
   "pygments_lexer": "ipython3",
   "version": "3.12.3"
  }
 },
 "nbformat": 4,
 "nbformat_minor": 5
}
